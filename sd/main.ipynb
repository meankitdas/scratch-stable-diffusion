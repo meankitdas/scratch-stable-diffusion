{
 "cells": [
  {
   "cell_type": "code",
   "execution_count": 9,
   "metadata": {},
   "outputs": [],
   "source": [
    "import model_loader\n",
    "import pipeline\n",
    "from PIL import Image\n",
    "from pathlib import Path\n",
    "from transformers import CLIPTokenizer\n",
    "import torch"
   ]
  },
  {
   "cell_type": "code",
   "execution_count": 10,
   "metadata": {},
   "outputs": [],
   "source": [
    "DEVICE = \"cpu\""
   ]
  },
  {
   "cell_type": "code",
   "execution_count": 11,
   "metadata": {},
   "outputs": [],
   "source": [
    "ALLOW_CUDA = False\n",
    "ALLOW_MPS = True"
   ]
  },
  {
   "cell_type": "code",
   "execution_count": 12,
   "metadata": {},
   "outputs": [
    {
     "name": "stdout",
     "output_type": "stream",
     "text": [
      "Using device: mps\n"
     ]
    }
   ],
   "source": [
    "if torch.cuda.is_available() and ALLOW_CUDA:\n",
    "    DEVICE = \"cuda\"\n",
    "elif (torch.backends.mps.is_built() or torch.backends.mps.is_available()) and ALLOW_MPS:\n",
    "    DEVICE = \"mps\"\n",
    "print(f\"Using device: {DEVICE}\")"
   ]
  },
  {
   "cell_type": "code",
   "execution_count": 13,
   "metadata": {},
   "outputs": [],
   "source": [
    "tokenizer = CLIPTokenizer(\"../data/tokenizer_vocab.json\", merges_file=\"../data/tokenizer_merges.txt\")\n",
    "model_file = \"../data/v1-5-pruned.ckpt\""
   ]
  },
  {
   "cell_type": "code",
   "execution_count": 15,
   "metadata": {},
   "outputs": [
    {
     "ename": "TypeError",
     "evalue": "descriptor '__init__' of 'super' object needs an argument",
     "output_type": "error",
     "traceback": [
      "\u001b[0;31m---------------------------------------------------------------------------\u001b[0m",
      "\u001b[0;31mTypeError\u001b[0m                                 Traceback (most recent call last)",
      "Cell \u001b[0;32mIn[15], line 1\u001b[0m\n\u001b[0;32m----> 1\u001b[0m models \u001b[38;5;241m=\u001b[39m \u001b[43mmodel_loader\u001b[49m\u001b[38;5;241;43m.\u001b[39;49m\u001b[43mpreload_models_from_standard_weights\u001b[49m\u001b[43m(\u001b[49m\u001b[43mmodel_file\u001b[49m\u001b[43m,\u001b[49m\u001b[43m \u001b[49m\u001b[43mDEVICE\u001b[49m\u001b[43m)\u001b[49m\n",
      "File \u001b[0;32m~/Desktop/Stable Diffusion/sd/model_loader.py:12\u001b[0m, in \u001b[0;36mpreload_models_from_standard_weights\u001b[0;34m(ckpt_path, device)\u001b[0m\n\u001b[1;32m      9\u001b[0m \u001b[38;5;28;01mdef\u001b[39;00m \u001b[38;5;21mpreload_models_from_standard_weights\u001b[39m(ckpt_path, device):\n\u001b[1;32m     10\u001b[0m     state_dict \u001b[38;5;241m=\u001b[39m model_converter\u001b[38;5;241m.\u001b[39mload_from_standard_weights(ckpt_path, device)\n\u001b[0;32m---> 12\u001b[0m     encoder \u001b[38;5;241m=\u001b[39m \u001b[43mVAE_Encoder\u001b[49m\u001b[43m(\u001b[49m\u001b[43m)\u001b[49m\u001b[38;5;241m.\u001b[39mto(device)\n\u001b[1;32m     13\u001b[0m     encoder\u001b[38;5;241m.\u001b[39mload_state_dict(state_dict[\u001b[38;5;124m\"\u001b[39m\u001b[38;5;124mencoder\u001b[39m\u001b[38;5;124m\"\u001b[39m], strict\u001b[38;5;241m=\u001b[39m\u001b[38;5;28;01mTrue\u001b[39;00m)\n\u001b[1;32m     15\u001b[0m     decoder \u001b[38;5;241m=\u001b[39m VAE_Decoder()\u001b[38;5;241m.\u001b[39mto(device)\n",
      "File \u001b[0;32m~/Desktop/Stable Diffusion/sd/encoder.py:26\u001b[0m, in \u001b[0;36mVAE_Encoder.__init__\u001b[0;34m(self)\u001b[0m\n\u001b[1;32m      8\u001b[0m \u001b[38;5;28;01mdef\u001b[39;00m \u001b[38;5;21m__init__\u001b[39m(\u001b[38;5;28mself\u001b[39m):\n\u001b[1;32m      9\u001b[0m     \u001b[38;5;28msuper\u001b[39m()\u001b[38;5;241m.\u001b[39m\u001b[38;5;21m__init__\u001b[39m(\n\u001b[1;32m     10\u001b[0m         nn\u001b[38;5;241m.\u001b[39mConv2d(\u001b[38;5;241m3\u001b[39m, \u001b[38;5;241m128\u001b[39m, kernel_size\u001b[38;5;241m=\u001b[39m\u001b[38;5;241m3\u001b[39m, padding\u001b[38;5;241m=\u001b[39m\u001b[38;5;241m1\u001b[39m),\n\u001b[1;32m     11\u001b[0m         VAE_ResidualBlock(\u001b[38;5;241m128\u001b[39m, \u001b[38;5;241m128\u001b[39m),\n\u001b[1;32m     12\u001b[0m         VAE_ResidualBlock(\u001b[38;5;241m128\u001b[39m, \u001b[38;5;241m128\u001b[39m),\n\u001b[1;32m     13\u001b[0m         \u001b[38;5;66;03m# (Batch_Size, 128, Height, Width) -> (Batch_Size, 128, Height / 2, Width / 2)\u001b[39;00m\n\u001b[1;32m     14\u001b[0m         nn\u001b[38;5;241m.\u001b[39mConv2d(\u001b[38;5;241m128\u001b[39m, \u001b[38;5;241m128\u001b[39m, kernel_size\u001b[38;5;241m=\u001b[39m\u001b[38;5;241m3\u001b[39m, stride\u001b[38;5;241m=\u001b[39m\u001b[38;5;241m2\u001b[39m, padding\u001b[38;5;241m=\u001b[39m\u001b[38;5;241m0\u001b[39m),\n\u001b[1;32m     15\u001b[0m         VAE_ResidualBlock(\u001b[38;5;241m128\u001b[39m, \u001b[38;5;241m256\u001b[39m),\n\u001b[1;32m     16\u001b[0m         VAE_ResidualBlock(\u001b[38;5;241m256\u001b[39m, \u001b[38;5;241m256\u001b[39m),\n\u001b[1;32m     17\u001b[0m         \u001b[38;5;66;03m# (Batch_Size, 256, Height / 2, Width / 2) -> (Batch_Size, 256, Height / 4, Width / 4)\u001b[39;00m\n\u001b[1;32m     18\u001b[0m         nn\u001b[38;5;241m.\u001b[39mConv2d(\u001b[38;5;241m256\u001b[39m, \u001b[38;5;241m256\u001b[39m, kernel_size\u001b[38;5;241m=\u001b[39m\u001b[38;5;241m3\u001b[39m, stride\u001b[38;5;241m=\u001b[39m\u001b[38;5;241m2\u001b[39m, padding\u001b[38;5;241m=\u001b[39m\u001b[38;5;241m0\u001b[39m),\n\u001b[1;32m     19\u001b[0m         VAE_ResidualBlock(\u001b[38;5;241m256\u001b[39m, \u001b[38;5;241m512\u001b[39m),\n\u001b[1;32m     20\u001b[0m         VAE_ResidualBlock(\u001b[38;5;241m512\u001b[39m, \u001b[38;5;241m512\u001b[39m),\n\u001b[1;32m     21\u001b[0m         \u001b[38;5;66;03m# (Batch_Size, 512, Height / 4, Width / 4) -> (Batch_Size, 512, Height / 8, Width / 8)\u001b[39;00m\n\u001b[1;32m     22\u001b[0m         nn\u001b[38;5;241m.\u001b[39mConv2d(\u001b[38;5;241m512\u001b[39m, \u001b[38;5;241m512\u001b[39m, kernel_size\u001b[38;5;241m=\u001b[39m\u001b[38;5;241m3\u001b[39m, stride\u001b[38;5;241m=\u001b[39m\u001b[38;5;241m2\u001b[39m, padding\u001b[38;5;241m=\u001b[39m\u001b[38;5;241m0\u001b[39m),\n\u001b[1;32m     23\u001b[0m         VAE_ResidualBlock(\u001b[38;5;241m512\u001b[39m, \u001b[38;5;241m512\u001b[39m),\n\u001b[1;32m     24\u001b[0m         VAE_ResidualBlock(\u001b[38;5;241m512\u001b[39m, \u001b[38;5;241m512\u001b[39m),\n\u001b[1;32m     25\u001b[0m         VAE_ResidualBlock(\u001b[38;5;241m512\u001b[39m, \u001b[38;5;241m512\u001b[39m),\n\u001b[0;32m---> 26\u001b[0m         \u001b[43mVAE_AttentionBlock\u001b[49m\u001b[43m(\u001b[49m\u001b[38;5;241;43m512\u001b[39;49m\u001b[43m)\u001b[49m,\n\u001b[1;32m     27\u001b[0m         VAE_ResidualBlock(\u001b[38;5;241m512\u001b[39m, \u001b[38;5;241m512\u001b[39m),\n\u001b[1;32m     28\u001b[0m         nn\u001b[38;5;241m.\u001b[39mGroupNorm(\u001b[38;5;241m32\u001b[39m, \u001b[38;5;241m512\u001b[39m),\n\u001b[1;32m     29\u001b[0m         nn\u001b[38;5;241m.\u001b[39mSiLU(),\n\u001b[1;32m     30\u001b[0m         nn\u001b[38;5;241m.\u001b[39mConv2d(\u001b[38;5;241m512\u001b[39m, \u001b[38;5;241m8\u001b[39m, kernel_size\u001b[38;5;241m=\u001b[39m\u001b[38;5;241m3\u001b[39m, padding\u001b[38;5;241m=\u001b[39m\u001b[38;5;241m1\u001b[39m),\n\u001b[1;32m     31\u001b[0m         nn\u001b[38;5;241m.\u001b[39mConv2d(\u001b[38;5;241m8\u001b[39m, \u001b[38;5;241m8\u001b[39m, kernel_size\u001b[38;5;241m=\u001b[39m\u001b[38;5;241m1\u001b[39m, padding\u001b[38;5;241m=\u001b[39m\u001b[38;5;241m0\u001b[39m),\n\u001b[1;32m     32\u001b[0m     )\n",
      "File \u001b[0;32m~/Desktop/Stable Diffusion/sd/decoder.py:11\u001b[0m, in \u001b[0;36mVAE_AttentionBlock.__init__\u001b[0;34m(self, channels)\u001b[0m\n\u001b[1;32m      9\u001b[0m \u001b[38;5;28msuper\u001b[39m()\u001b[38;5;241m.\u001b[39m\u001b[38;5;21m__init__\u001b[39m()\n\u001b[1;32m     10\u001b[0m \u001b[38;5;28mself\u001b[39m\u001b[38;5;241m.\u001b[39mgroupnorm \u001b[38;5;241m=\u001b[39m nn\u001b[38;5;241m.\u001b[39mGroupNorm(\u001b[38;5;241m32\u001b[39m, channels)\n\u001b[0;32m---> 11\u001b[0m \u001b[38;5;28mself\u001b[39m\u001b[38;5;241m.\u001b[39mattention \u001b[38;5;241m=\u001b[39m \u001b[43mSelfAttention\u001b[49m\u001b[43m(\u001b[49m\u001b[38;5;241;43m1\u001b[39;49m\u001b[43m,\u001b[49m\u001b[43m \u001b[49m\u001b[43mchannels\u001b[49m\u001b[43m)\u001b[49m\n",
      "File \u001b[0;32m~/Desktop/Stable Diffusion/sd/attention.py:9\u001b[0m, in \u001b[0;36mSelfAttention.__init__\u001b[0;34m(self, n_head, d_embed, in_proj_bias, out_proj_bias)\u001b[0m\n\u001b[1;32m      8\u001b[0m \u001b[38;5;28;01mdef\u001b[39;00m \u001b[38;5;21m__init__\u001b[39m(\u001b[38;5;28mself\u001b[39m, n_head, d_embed, in_proj_bias\u001b[38;5;241m=\u001b[39m\u001b[38;5;28;01mTrue\u001b[39;00m, out_proj_bias\u001b[38;5;241m=\u001b[39m\u001b[38;5;28;01mTrue\u001b[39;00m):\n\u001b[0;32m----> 9\u001b[0m     \u001b[38;5;28;43msuper\u001b[39;49m\u001b[38;5;241;43m.\u001b[39;49m\u001b[38;5;21;43m__init__\u001b[39;49m\u001b[43m(\u001b[49m\u001b[43m)\u001b[49m\n\u001b[1;32m     11\u001b[0m     \u001b[38;5;66;03m# This combines the Wq, Wk and Wv matrices into one matrix\u001b[39;00m\n\u001b[1;32m     12\u001b[0m     \u001b[38;5;28mself\u001b[39m\u001b[38;5;241m.\u001b[39min_proj \u001b[38;5;241m=\u001b[39m nn\u001b[38;5;241m.\u001b[39mLinear(d_embed, \u001b[38;5;241m3\u001b[39m \u001b[38;5;241m*\u001b[39m d_embed, bias\u001b[38;5;241m=\u001b[39min_proj_bias)\n",
      "\u001b[0;31mTypeError\u001b[0m: descriptor '__init__' of 'super' object needs an argument"
     ]
    }
   ],
   "source": [
    "models = model_loader.preload_models_from_standard_weights(model_file, DEVICE)"
   ]
  },
  {
   "cell_type": "code",
   "execution_count": null,
   "metadata": {},
   "outputs": [],
   "source": []
  }
 ],
 "metadata": {
  "kernelspec": {
   "display_name": "virtual-env",
   "language": "python",
   "name": "python3"
  },
  "language_info": {
   "codemirror_mode": {
    "name": "ipython",
    "version": 3
   },
   "file_extension": ".py",
   "mimetype": "text/x-python",
   "name": "python",
   "nbconvert_exporter": "python",
   "pygments_lexer": "ipython3",
   "version": "3.11.5"
  }
 },
 "nbformat": 4,
 "nbformat_minor": 2
}
