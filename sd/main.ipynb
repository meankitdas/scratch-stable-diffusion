{
 "cells": [
  {
   "cell_type": "code",
   "execution_count": 1,
   "metadata": {},
   "outputs": [
    {
     "name": "stderr",
     "output_type": "stream",
     "text": [
      "/Users/ankitdas/Desktop/scratch-stable-diffusion/sdmv/lib/python3.11/site-packages/tqdm/auto.py:21: TqdmWarning: IProgress not found. Please update jupyter and ipywidgets. See https://ipywidgets.readthedocs.io/en/stable/user_install.html\n",
      "  from .autonotebook import tqdm as notebook_tqdm\n"
     ]
    }
   ],
   "source": [
    "import model_loader\n",
    "import pipeline\n",
    "from PIL import Image\n",
    "from pathlib import Path\n",
    "from transformers import CLIPTokenizer\n",
    "import torch"
   ]
  },
  {
   "cell_type": "code",
   "execution_count": 2,
   "metadata": {},
   "outputs": [],
   "source": [
    "DEVICE = \"cpu\""
   ]
  },
  {
   "cell_type": "code",
   "execution_count": 3,
   "metadata": {},
   "outputs": [],
   "source": [
    "ALLOW_CUDA = False\n",
    "ALLOW_MPS = True"
   ]
  },
  {
   "cell_type": "code",
   "execution_count": 4,
   "metadata": {},
   "outputs": [
    {
     "name": "stdout",
     "output_type": "stream",
     "text": [
      "Using device: mps\n"
     ]
    }
   ],
   "source": [
    "if torch.cuda.is_available() and ALLOW_CUDA:\n",
    "    DEVICE = \"cuda\"\n",
    "elif (torch.backends.mps.is_built() or torch.backends.mps.is_available()) and ALLOW_MPS:\n",
    "    DEVICE = \"mps\"\n",
    "print(f\"Using device: {DEVICE}\")"
   ]
  },
  {
   "cell_type": "code",
   "execution_count": 5,
   "metadata": {},
   "outputs": [],
   "source": [
    "tokenizer = CLIPTokenizer(\"../data/vocab.json\", merges_file=\"../data/merges.txt\")\n",
    "model_file = \"../data/v1-5-pruned-emaonly.ckpt\""
   ]
  },
  {
   "cell_type": "code",
   "execution_count": 6,
   "metadata": {},
   "outputs": [
    {
     "ename": "TypeError",
     "evalue": "Conv2d.__init__() missing 1 required positional argument: 'kernel_size'",
     "output_type": "error",
     "traceback": [
      "\u001b[0;31m---------------------------------------------------------------------------\u001b[0m",
      "\u001b[0;31mTypeError\u001b[0m                                 Traceback (most recent call last)",
      "Cell \u001b[0;32mIn[6], line 1\u001b[0m\n\u001b[0;32m----> 1\u001b[0m models \u001b[38;5;241m=\u001b[39m \u001b[43mmodel_loader\u001b[49m\u001b[38;5;241;43m.\u001b[39;49m\u001b[43mpreload_models_from_standard_weights\u001b[49m\u001b[43m(\u001b[49m\u001b[43mmodel_file\u001b[49m\u001b[43m,\u001b[49m\u001b[43m \u001b[49m\u001b[43mDEVICE\u001b[49m\u001b[43m)\u001b[49m\n",
      "File \u001b[0;32m~/Desktop/scratch-stable-diffusion/sd/model_loader.py:18\u001b[0m, in \u001b[0;36mpreload_models_from_standard_weights\u001b[0;34m(ckpt_path, device)\u001b[0m\n\u001b[1;32m     15\u001b[0m decoder \u001b[38;5;241m=\u001b[39m VAE_Decoder()\u001b[38;5;241m.\u001b[39mto(device)\n\u001b[1;32m     16\u001b[0m decoder\u001b[38;5;241m.\u001b[39mload_state_dict(state_dict[\u001b[38;5;124m\"\u001b[39m\u001b[38;5;124mdecoder\u001b[39m\u001b[38;5;124m\"\u001b[39m], strict\u001b[38;5;241m=\u001b[39m\u001b[38;5;28;01mTrue\u001b[39;00m)\n\u001b[0;32m---> 18\u001b[0m diffusion \u001b[38;5;241m=\u001b[39m \u001b[43mDiffusion\u001b[49m\u001b[43m(\u001b[49m\u001b[43m)\u001b[49m\u001b[38;5;241m.\u001b[39mto(device)\n\u001b[1;32m     19\u001b[0m diffusion\u001b[38;5;241m.\u001b[39mload_state_dict(state_dict[\u001b[38;5;124m\"\u001b[39m\u001b[38;5;124mdiffusion\u001b[39m\u001b[38;5;124m\"\u001b[39m], strict\u001b[38;5;241m=\u001b[39m\u001b[38;5;28;01mTrue\u001b[39;00m)\n\u001b[1;32m     21\u001b[0m clip \u001b[38;5;241m=\u001b[39m CLIP()\u001b[38;5;241m.\u001b[39mto(device)\n",
      "File \u001b[0;32m~/Desktop/scratch-stable-diffusion/sd/diffusion.py:329\u001b[0m, in \u001b[0;36mDiffusion.__init__\u001b[0;34m(self)\u001b[0m\n\u001b[1;32m    327\u001b[0m \u001b[38;5;28msuper\u001b[39m()\u001b[38;5;241m.\u001b[39m\u001b[38;5;21m__init__\u001b[39m()\n\u001b[1;32m    328\u001b[0m \u001b[38;5;28mself\u001b[39m\u001b[38;5;241m.\u001b[39mtime_embedding \u001b[38;5;241m=\u001b[39m TimeEmbedding(\u001b[38;5;241m320\u001b[39m)\n\u001b[0;32m--> 329\u001b[0m \u001b[38;5;28mself\u001b[39m\u001b[38;5;241m.\u001b[39munet \u001b[38;5;241m=\u001b[39m \u001b[43mUNET\u001b[49m\u001b[43m(\u001b[49m\u001b[43m)\u001b[49m\n\u001b[1;32m    330\u001b[0m \u001b[38;5;28mself\u001b[39m\u001b[38;5;241m.\u001b[39mfinal \u001b[38;5;241m=\u001b[39m UNET_OutputLayer(\u001b[38;5;241m320\u001b[39m, \u001b[38;5;241m4\u001b[39m)\n",
      "File \u001b[0;32m~/Desktop/scratch-stable-diffusion/sd/diffusion.py:197\u001b[0m, in \u001b[0;36mUNET.__init__\u001b[0;34m(self)\u001b[0m\n\u001b[1;32m    189\u001b[0m \u001b[38;5;28;01mdef\u001b[39;00m \u001b[38;5;21m__init__\u001b[39m(\u001b[38;5;28mself\u001b[39m):\n\u001b[1;32m    190\u001b[0m     \u001b[38;5;28msuper\u001b[39m()\u001b[38;5;241m.\u001b[39m\u001b[38;5;21m__init__\u001b[39m()\n\u001b[1;32m    191\u001b[0m     \u001b[38;5;28mself\u001b[39m\u001b[38;5;241m.\u001b[39mencoders \u001b[38;5;241m=\u001b[39m nn\u001b[38;5;241m.\u001b[39mModuleList(\n\u001b[1;32m    192\u001b[0m         [\n\u001b[1;32m    193\u001b[0m             \u001b[38;5;66;03m# (Batch_Size, 4, Height / 8, Width / 8) -> (Batch_Size, 320, Height / 8, Width / 8)\u001b[39;00m\n\u001b[1;32m    194\u001b[0m             SwitchSequential(nn\u001b[38;5;241m.\u001b[39mConv2d(\u001b[38;5;241m4\u001b[39m, \u001b[38;5;241m320\u001b[39m, kernel_size\u001b[38;5;241m=\u001b[39m\u001b[38;5;241m3\u001b[39m, padding\u001b[38;5;241m=\u001b[39m\u001b[38;5;241m1\u001b[39m)),\n\u001b[1;32m    195\u001b[0m             \u001b[38;5;66;03m# (Batch_Size, 320, Height / 8, Width / 8) -> (Batch_Size, 320, Height / 8, Width / 8)\u001b[39;00m\n\u001b[1;32m    196\u001b[0m             SwitchSequential(\n\u001b[0;32m--> 197\u001b[0m                 \u001b[43mnn\u001b[49m\u001b[38;5;241;43m.\u001b[39;49m\u001b[43mConv2d\u001b[49m\u001b[43m(\u001b[49m\u001b[43mUNET_ResidualBlock\u001b[49m\u001b[43m(\u001b[49m\u001b[38;5;241;43m320\u001b[39;49m\u001b[43m,\u001b[49m\u001b[43m \u001b[49m\u001b[38;5;241;43m320\u001b[39;49m\u001b[43m)\u001b[49m\u001b[43m,\u001b[49m\u001b[43m \u001b[49m\u001b[43mUNET_AttentionBlock\u001b[49m\u001b[43m(\u001b[49m\u001b[38;5;241;43m8\u001b[39;49m\u001b[43m,\u001b[49m\u001b[43m \u001b[49m\u001b[38;5;241;43m40\u001b[39;49m\u001b[43m)\u001b[49m\u001b[43m)\u001b[49m\n\u001b[1;32m    198\u001b[0m             ),\n\u001b[1;32m    199\u001b[0m             SwitchSequential(\n\u001b[1;32m    200\u001b[0m                 nn\u001b[38;5;241m.\u001b[39mConv2d(UNET_ResidualBlock(\u001b[38;5;241m320\u001b[39m, \u001b[38;5;241m320\u001b[39m), UNET_AttentionBlock(\u001b[38;5;241m8\u001b[39m, \u001b[38;5;241m40\u001b[39m))\n\u001b[1;32m    201\u001b[0m             ),\n\u001b[1;32m    202\u001b[0m             \u001b[38;5;66;03m# (Batch_Size, 320, Height / 8, Width / 8) -> (Batch_Size, 320, Height / 16, Width / 16)\u001b[39;00m\n\u001b[1;32m    203\u001b[0m             SwitchSequential(\n\u001b[1;32m    204\u001b[0m                 nn\u001b[38;5;241m.\u001b[39mConv2d(\u001b[38;5;241m320\u001b[39m, \u001b[38;5;241m320\u001b[39m, kernel_size\u001b[38;5;241m=\u001b[39m\u001b[38;5;241m3\u001b[39m, stride\u001b[38;5;241m=\u001b[39m\u001b[38;5;241m2\u001b[39m, padding\u001b[38;5;241m=\u001b[39m\u001b[38;5;241m1\u001b[39m)\n\u001b[1;32m    205\u001b[0m             ),\n\u001b[1;32m    206\u001b[0m             \u001b[38;5;66;03m# (Batch_Size, 320, Height / 16, Width / 16) -> (Batch_Size, 640, Height / 16, Width / 16)\u001b[39;00m\n\u001b[1;32m    207\u001b[0m             SwitchSequential(\n\u001b[1;32m    208\u001b[0m                 nn\u001b[38;5;241m.\u001b[39mConv2d(UNET_ResidualBlock(\u001b[38;5;241m320\u001b[39m, \u001b[38;5;241m640\u001b[39m), UNET_AttentionBlock(\u001b[38;5;241m8\u001b[39m, \u001b[38;5;241m80\u001b[39m))\n\u001b[1;32m    209\u001b[0m             ),\n\u001b[1;32m    210\u001b[0m             SwitchSequential(\n\u001b[1;32m    211\u001b[0m                 nn\u001b[38;5;241m.\u001b[39mConv2d(UNET_ResidualBlock(\u001b[38;5;241m640\u001b[39m, \u001b[38;5;241m640\u001b[39m), UNET_AttentionBlock(\u001b[38;5;241m8\u001b[39m, \u001b[38;5;241m80\u001b[39m))\n\u001b[1;32m    212\u001b[0m             ),\n\u001b[1;32m    213\u001b[0m             SwitchSequential(\n\u001b[1;32m    214\u001b[0m                 nn\u001b[38;5;241m.\u001b[39mConv2d(\u001b[38;5;241m640\u001b[39m, \u001b[38;5;241m640\u001b[39m, kernel_size\u001b[38;5;241m=\u001b[39m\u001b[38;5;241m3\u001b[39m, stride\u001b[38;5;241m=\u001b[39m\u001b[38;5;241m2\u001b[39m, padding\u001b[38;5;241m=\u001b[39m\u001b[38;5;241m1\u001b[39m)\n\u001b[1;32m    215\u001b[0m             ),\n\u001b[1;32m    216\u001b[0m             \u001b[38;5;66;03m# (Batch_Size, 640, Height / 32, Width / 32) -> (Batch_Size, 1280, Height / 32, Width / 32)\u001b[39;00m\n\u001b[1;32m    217\u001b[0m             SwitchSequential(\n\u001b[1;32m    218\u001b[0m                 nn\u001b[38;5;241m.\u001b[39mConv2d(\n\u001b[1;32m    219\u001b[0m                     UNET_ResidualBlock(\u001b[38;5;241m640\u001b[39m, \u001b[38;5;241m1280\u001b[39m), UNET_AttentionBlock(\u001b[38;5;241m8\u001b[39m, \u001b[38;5;241m160\u001b[39m)\n\u001b[1;32m    220\u001b[0m                 )\n\u001b[1;32m    221\u001b[0m             ),\n\u001b[1;32m    222\u001b[0m             SwitchSequential(\n\u001b[1;32m    223\u001b[0m                 nn\u001b[38;5;241m.\u001b[39mConv2d(\n\u001b[1;32m    224\u001b[0m                     UNET_ResidualBlock(\u001b[38;5;241m1280\u001b[39m, \u001b[38;5;241m1280\u001b[39m), UNET_AttentionBlock(\u001b[38;5;241m8\u001b[39m, \u001b[38;5;241m160\u001b[39m)\n\u001b[1;32m    225\u001b[0m                 )\n\u001b[1;32m    226\u001b[0m             ),\n\u001b[1;32m    227\u001b[0m             \u001b[38;5;66;03m# (Batch_Size, 1280, Height / 32, Width / 32) -> (Batch_Size, 1280, Height / 64, Width / 64)\u001b[39;00m\n\u001b[1;32m    228\u001b[0m             SwitchSequential(UNET_ResidualBlock(\u001b[38;5;241m1280\u001b[39m, \u001b[38;5;241m1280\u001b[39m)),\n\u001b[1;32m    229\u001b[0m             \u001b[38;5;66;03m# (Batch_Size, 1280, Height / 64, Width / 64) -> (Batch_Size, 1280, Height / 64, Width / 64)\u001b[39;00m\n\u001b[1;32m    230\u001b[0m             SwitchSequential(UNET_ResidualBlock(\u001b[38;5;241m1280\u001b[39m, \u001b[38;5;241m1280\u001b[39m)),\n\u001b[1;32m    231\u001b[0m         ]\n\u001b[1;32m    232\u001b[0m     )\n\u001b[1;32m    234\u001b[0m     \u001b[38;5;28mself\u001b[39m\u001b[38;5;241m.\u001b[39mbottleneck \u001b[38;5;241m=\u001b[39m SwitchSequential(\n\u001b[1;32m    235\u001b[0m         \u001b[38;5;66;03m# (Batch_Size, 1280, Height / 64, Width / 64) -> (Batch_Size, 1280, Height / 64, Width / 64)\u001b[39;00m\n\u001b[1;32m    236\u001b[0m         UNET_ResidualBlock(\u001b[38;5;241m1280\u001b[39m, \u001b[38;5;241m1280\u001b[39m),\n\u001b[0;32m   (...)\u001b[0m\n\u001b[1;32m    239\u001b[0m         UNET_ResidualBlock(\u001b[38;5;241m1280\u001b[39m, \u001b[38;5;241m1280\u001b[39m),\n\u001b[1;32m    240\u001b[0m     )\n\u001b[1;32m    242\u001b[0m     \u001b[38;5;28mself\u001b[39m\u001b[38;5;241m.\u001b[39mdecoders \u001b[38;5;241m=\u001b[39m nn\u001b[38;5;241m.\u001b[39mModuleList(\n\u001b[1;32m    243\u001b[0m         [\n\u001b[1;32m    244\u001b[0m             \u001b[38;5;66;03m# (Batch_Size, 2560, Height / 64, Width / 64) -> (Batch_Size, 1280, Height / 64, Width / 64)\u001b[39;00m\n\u001b[0;32m   (...)\u001b[0m\n\u001b[1;32m    286\u001b[0m         ]\n\u001b[1;32m    287\u001b[0m     )\n",
      "\u001b[0;31mTypeError\u001b[0m: Conv2d.__init__() missing 1 required positional argument: 'kernel_size'"
     ]
    }
   ],
   "source": [
    "models = model_loader.preload_models_from_standard_weights(model_file, DEVICE)"
   ]
  },
  {
   "cell_type": "code",
   "execution_count": null,
   "metadata": {},
   "outputs": [],
   "source": []
  }
 ],
 "metadata": {
  "kernelspec": {
   "display_name": "virtual-env",
   "language": "python",
   "name": "python3"
  },
  "language_info": {
   "codemirror_mode": {
    "name": "ipython",
    "version": 3
   },
   "file_extension": ".py",
   "mimetype": "text/x-python",
   "name": "python",
   "nbconvert_exporter": "python",
   "pygments_lexer": "ipython3",
   "version": "3.11.5"
  }
 },
 "nbformat": 4,
 "nbformat_minor": 2
}
